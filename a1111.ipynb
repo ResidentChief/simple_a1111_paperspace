{
 "cells": [
  {
   "cell_type": "code",
   "execution_count": null,
   "id": "78c19421-f0d1-4961-a32d-9eda6bd4f15f",
   "metadata": {
    "execution": {
     "iopub.execute_input": "2023-04-15T03:53:37.107282Z",
     "iopub.status.busy": "2023-04-15T03:53:37.106970Z",
     "iopub.status.idle": "2023-04-15T03:56:17.423495Z",
     "shell.execute_reply": "2023-04-15T03:56:17.422667Z",
     "shell.execute_reply.started": "2023-04-15T03:53:37.107260Z"
    }
   },
   "outputs": [],
   "source": [
    "### Install/update a1111\n",
    "import os\n",
    "if not os.path.isfile(\"/notebooks/stable-diffusion-webui/config.json\"):\n",
    "    %cd /notebooks\n",
    "    !git clone https://github.com/AUTOMATIC1111/stable-diffusion-webui.git\n",
    "    %cd /notebooks/stable-diffusion-webui\n",
    "    !wget -O config.json https://raw.githubusercontent.com/ResidentChief/simple_a1111_paperspace/main/config.json\n",
    "else:\n",
    "   %cd /notebooks/stable-diffusion-webui\n",
    "   !git pull\n",
    "    \n",
    "### Create directory for models to go into\n",
    "%mkdir /tmp/models\n",
    "%mkdir /tmp/models/stable-diffusion\n",
    "%cd /tmp/models/stable-diffusion\n",
    "\n",
    "### Download models (remove the # from in front of the ones you want to download, or add new ones in the same format 'wget -O filename.extension URL')\n",
    "#!wget -O deliberate.safetensors https://civitai.com/api/download/models/15236\n",
    "#!wget -O lyriel.safetensors https://civitai.com/api/download/models/32704\n",
    "#!wget -O RCNZ_Optimus_Primate.ckpt https://huggingface.co/residentchiefnz/HordeVAEMergeModelsTest/resolve/main/RCNZ%20Ultimate%20Merge%20v3.ckpt\n",
    "#!wget -O AbyssOrangeMixV3.ckpt https://huggingface.co/residentchiefnz/HordeVAEMergeModelsTest/resolve/main/AOM3_inclVAE.ckpt\n",
    "#!wget -O JAFAMix_v3.safetensors https://huggingface.co/residentchiefnz/HordeVAEMergeModelsTest/resolve/main/jafamix_v3.safetensors\n",
    "#!wget -O Anything_v3.ckpt https://huggingface.co/residentchiefnz/HordeVAEMergeModelsTest/resolve/main/AnythingV3_inclvae.ckpt\n",
    "#!wget -O MeinaMix.safetensors https://civitai.com/api/download/models/46137\n",
    "#!wget -O ICBINP.safetensors https://civitai.com/api/download/models/42311\n",
    "#!wget -O ICBINP_inpaint.ckpt https://civitai.com/api/download/models/41553\n",
    "#!wget -O JAFAMix_v3_inpaint.safetensors https://civitai.com/api/download/models/49722\n",
    "#!wget -O RCNZ_Optimus_Primate_inpaint.safetensors https://civitai.com/api/download/models/49689\n"
   ]
  },
  {
   "cell_type": "code",
   "execution_count": null,
   "id": "c6b73acc-67be-48aa-9cab-fac5afeff538",
   "metadata": {
    "execution": {
     "iopub.execute_input": "2023-04-15T04:06:26.412787Z",
     "iopub.status.busy": "2023-04-15T04:06:26.412171Z",
     "iopub.status.idle": "2023-04-15T04:09:05.511147Z",
     "shell.execute_reply": "2023-04-15T04:09:05.510107Z",
     "shell.execute_reply.started": "2023-04-15T04:06:26.412756Z"
    }
   },
   "outputs": [],
   "source": [
    "## Run a1111\n",
    "%cd /notebooks/stable-diffusion-webui\n",
    "!bash webui.sh -f --xformers --share --ckpt-dir /tmp/models/stable-diffusion"
   ]
  }
 ],
 "metadata": {
  "kernelspec": {
   "display_name": "Python 3 (ipykernel)",
   "language": "python",
   "name": "python3"
  },
  "language_info": {
   "codemirror_mode": {
    "name": "ipython",
    "version": 3
   },
   "file_extension": ".py",
   "mimetype": "text/x-python",
   "name": "python",
   "nbconvert_exporter": "python",
   "pygments_lexer": "ipython3",
   "version": "3.10.10"
  }
 },
 "nbformat": 4,
 "nbformat_minor": 5
}
